{
 "cells": [
  {
   "cell_type": "code",
   "execution_count": 1,
   "metadata": {},
   "outputs": [],
   "source": [
    "import pandas as pd\n",
    "import numpy as np\n",
    "import matplotlib.pyplot as plt"
   ]
  },
  {
   "cell_type": "code",
   "execution_count": 2,
   "metadata": {
    "scrolled": true
   },
   "outputs": [
    {
     "data": {
      "text/html": [
       "<div>\n",
       "<style scoped>\n",
       "    .dataframe tbody tr th:only-of-type {\n",
       "        vertical-align: middle;\n",
       "    }\n",
       "\n",
       "    .dataframe tbody tr th {\n",
       "        vertical-align: top;\n",
       "    }\n",
       "\n",
       "    .dataframe thead th {\n",
       "        text-align: right;\n",
       "    }\n",
       "</style>\n",
       "<table border=\"1\" class=\"dataframe\">\n",
       "  <thead>\n",
       "    <tr style=\"text-align: right;\">\n",
       "      <th></th>\n",
       "      <th>Unnamed: 0</th>\n",
       "      <th>station</th>\n",
       "      <th>do</th>\n",
       "      <th>ph</th>\n",
       "      <th>co</th>\n",
       "      <th>bod</th>\n",
       "      <th>na</th>\n",
       "      <th>tc</th>\n",
       "      <th>wqi</th>\n",
       "    </tr>\n",
       "  </thead>\n",
       "  <tbody>\n",
       "    <tr>\n",
       "      <th>0</th>\n",
       "      <td>0</td>\n",
       "      <td>1393.0</td>\n",
       "      <td>6.7</td>\n",
       "      <td>7.5</td>\n",
       "      <td>203.0</td>\n",
       "      <td>1.8965</td>\n",
       "      <td>0.100</td>\n",
       "      <td>27.0</td>\n",
       "      <td>93.82</td>\n",
       "    </tr>\n",
       "    <tr>\n",
       "      <th>1</th>\n",
       "      <td>1</td>\n",
       "      <td>1399.0</td>\n",
       "      <td>5.7</td>\n",
       "      <td>7.2</td>\n",
       "      <td>189.0</td>\n",
       "      <td>2.0000</td>\n",
       "      <td>0.200</td>\n",
       "      <td>8391.0</td>\n",
       "      <td>76.96</td>\n",
       "    </tr>\n",
       "    <tr>\n",
       "      <th>2</th>\n",
       "      <td>2</td>\n",
       "      <td>1475.0</td>\n",
       "      <td>6.3</td>\n",
       "      <td>6.9</td>\n",
       "      <td>179.0</td>\n",
       "      <td>1.7000</td>\n",
       "      <td>0.100</td>\n",
       "      <td>5330.0</td>\n",
       "      <td>79.28</td>\n",
       "    </tr>\n",
       "    <tr>\n",
       "      <th>3</th>\n",
       "      <td>3</td>\n",
       "      <td>3181.0</td>\n",
       "      <td>5.8</td>\n",
       "      <td>6.9</td>\n",
       "      <td>64.0</td>\n",
       "      <td>3.8000</td>\n",
       "      <td>0.500</td>\n",
       "      <td>8443.0</td>\n",
       "      <td>69.34</td>\n",
       "    </tr>\n",
       "    <tr>\n",
       "      <th>4</th>\n",
       "      <td>4</td>\n",
       "      <td>3182.0</td>\n",
       "      <td>5.8</td>\n",
       "      <td>7.3</td>\n",
       "      <td>83.0</td>\n",
       "      <td>1.9000</td>\n",
       "      <td>0.400</td>\n",
       "      <td>5500.0</td>\n",
       "      <td>77.14</td>\n",
       "    </tr>\n",
       "    <tr>\n",
       "      <th>...</th>\n",
       "      <td>...</td>\n",
       "      <td>...</td>\n",
       "      <td>...</td>\n",
       "      <td>...</td>\n",
       "      <td>...</td>\n",
       "      <td>...</td>\n",
       "      <td>...</td>\n",
       "      <td>...</td>\n",
       "      <td>...</td>\n",
       "    </tr>\n",
       "    <tr>\n",
       "      <th>1986</th>\n",
       "      <td>1986</td>\n",
       "      <td>1330.0</td>\n",
       "      <td>7.9</td>\n",
       "      <td>738.0</td>\n",
       "      <td>7.2</td>\n",
       "      <td>2.7000</td>\n",
       "      <td>0.518</td>\n",
       "      <td>202.0</td>\n",
       "      <td>72.06</td>\n",
       "    </tr>\n",
       "    <tr>\n",
       "      <th>1987</th>\n",
       "      <td>1987</td>\n",
       "      <td>1450.0</td>\n",
       "      <td>7.5</td>\n",
       "      <td>585.0</td>\n",
       "      <td>6.3</td>\n",
       "      <td>2.6000</td>\n",
       "      <td>0.155</td>\n",
       "      <td>315.0</td>\n",
       "      <td>72.06</td>\n",
       "    </tr>\n",
       "    <tr>\n",
       "      <th>1988</th>\n",
       "      <td>1988</td>\n",
       "      <td>1403.0</td>\n",
       "      <td>7.6</td>\n",
       "      <td>98.0</td>\n",
       "      <td>6.2</td>\n",
       "      <td>1.2000</td>\n",
       "      <td>0.516</td>\n",
       "      <td>570.0</td>\n",
       "      <td>66.44</td>\n",
       "    </tr>\n",
       "    <tr>\n",
       "      <th>1989</th>\n",
       "      <td>1989</td>\n",
       "      <td>1404.0</td>\n",
       "      <td>7.7</td>\n",
       "      <td>91.0</td>\n",
       "      <td>6.5</td>\n",
       "      <td>1.3000</td>\n",
       "      <td>0.516</td>\n",
       "      <td>562.0</td>\n",
       "      <td>66.44</td>\n",
       "    </tr>\n",
       "    <tr>\n",
       "      <th>1990</th>\n",
       "      <td>1990</td>\n",
       "      <td>1726.0</td>\n",
       "      <td>7.6</td>\n",
       "      <td>110.0</td>\n",
       "      <td>5.7</td>\n",
       "      <td>1.1000</td>\n",
       "      <td>0.516</td>\n",
       "      <td>546.0</td>\n",
       "      <td>66.44</td>\n",
       "    </tr>\n",
       "  </tbody>\n",
       "</table>\n",
       "<p>1991 rows × 9 columns</p>\n",
       "</div>"
      ],
      "text/plain": [
       "      Unnamed: 0  station   do     ph     co     bod     na      tc    wqi\n",
       "0              0   1393.0  6.7    7.5  203.0  1.8965  0.100    27.0  93.82\n",
       "1              1   1399.0  5.7    7.2  189.0  2.0000  0.200  8391.0  76.96\n",
       "2              2   1475.0  6.3    6.9  179.0  1.7000  0.100  5330.0  79.28\n",
       "3              3   3181.0  5.8    6.9   64.0  3.8000  0.500  8443.0  69.34\n",
       "4              4   3182.0  5.8    7.3   83.0  1.9000  0.400  5500.0  77.14\n",
       "...          ...      ...  ...    ...    ...     ...    ...     ...    ...\n",
       "1986        1986   1330.0  7.9  738.0    7.2  2.7000  0.518   202.0  72.06\n",
       "1987        1987   1450.0  7.5  585.0    6.3  2.6000  0.155   315.0  72.06\n",
       "1988        1988   1403.0  7.6   98.0    6.2  1.2000  0.516   570.0  66.44\n",
       "1989        1989   1404.0  7.7   91.0    6.5  1.3000  0.516   562.0  66.44\n",
       "1990        1990   1726.0  7.6  110.0    5.7  1.1000  0.516   546.0  66.44\n",
       "\n",
       "[1991 rows x 9 columns]"
      ]
     },
     "execution_count": 2,
     "metadata": {},
     "output_type": "execute_result"
    }
   ],
   "source": [
    "dataset=pd.read_csv('dataset(water_quality_main).csv')\n",
    "dataset"
   ]
  },
  {
   "cell_type": "code",
   "execution_count": 3,
   "metadata": {},
   "outputs": [
    {
     "data": {
      "text/plain": [
       "Unnamed: 0    False\n",
       "station       False\n",
       "do            False\n",
       "ph            False\n",
       "co            False\n",
       "bod           False\n",
       "na            False\n",
       "tc            False\n",
       "wqi           False\n",
       "dtype: bool"
      ]
     },
     "execution_count": 3,
     "metadata": {},
     "output_type": "execute_result"
    }
   ],
   "source": [
    "dataset.isnull().any()"
   ]
  },
  {
   "cell_type": "code",
   "execution_count": 4,
   "metadata": {},
   "outputs": [
    {
     "data": {
      "text/html": [
       "<div>\n",
       "<style scoped>\n",
       "    .dataframe tbody tr th:only-of-type {\n",
       "        vertical-align: middle;\n",
       "    }\n",
       "\n",
       "    .dataframe tbody tr th {\n",
       "        vertical-align: top;\n",
       "    }\n",
       "\n",
       "    .dataframe thead th {\n",
       "        text-align: right;\n",
       "    }\n",
       "</style>\n",
       "<table border=\"1\" class=\"dataframe\">\n",
       "  <thead>\n",
       "    <tr style=\"text-align: right;\">\n",
       "      <th></th>\n",
       "      <th>Unnamed: 0</th>\n",
       "      <th>station</th>\n",
       "      <th>do</th>\n",
       "      <th>ph</th>\n",
       "      <th>co</th>\n",
       "      <th>bod</th>\n",
       "      <th>na</th>\n",
       "      <th>tc</th>\n",
       "      <th>wqi</th>\n",
       "    </tr>\n",
       "  </thead>\n",
       "  <tbody>\n",
       "    <tr>\n",
       "      <th>count</th>\n",
       "      <td>1991.000000</td>\n",
       "      <td>1991.000000</td>\n",
       "      <td>1991.000000</td>\n",
       "      <td>1991.000000</td>\n",
       "      <td>1991.000000</td>\n",
       "      <td>1991.000000</td>\n",
       "      <td>1991.000000</td>\n",
       "      <td>1.991000e+03</td>\n",
       "      <td>1991.000000</td>\n",
       "    </tr>\n",
       "    <tr>\n",
       "      <th>mean</th>\n",
       "      <td>995.000000</td>\n",
       "      <td>1947.967855</td>\n",
       "      <td>6.397422</td>\n",
       "      <td>111.669617</td>\n",
       "      <td>1766.332461</td>\n",
       "      <td>6.831122</td>\n",
       "      <td>1.497969</td>\n",
       "      <td>4.983356e+05</td>\n",
       "      <td>77.034114</td>\n",
       "    </tr>\n",
       "    <tr>\n",
       "      <th>std</th>\n",
       "      <td>574.896512</td>\n",
       "      <td>722.103262</td>\n",
       "      <td>1.323062</td>\n",
       "      <td>1875.161891</td>\n",
       "      <td>5520.179564</td>\n",
       "      <td>29.089898</td>\n",
       "      <td>3.868221</td>\n",
       "      <td>1.375473e+07</td>\n",
       "      <td>12.852719</td>\n",
       "    </tr>\n",
       "    <tr>\n",
       "      <th>min</th>\n",
       "      <td>0.000000</td>\n",
       "      <td>2.000000</td>\n",
       "      <td>0.000000</td>\n",
       "      <td>0.000000</td>\n",
       "      <td>0.400000</td>\n",
       "      <td>0.100000</td>\n",
       "      <td>0.000000</td>\n",
       "      <td>0.000000e+00</td>\n",
       "      <td>19.300000</td>\n",
       "    </tr>\n",
       "    <tr>\n",
       "      <th>25%</th>\n",
       "      <td>497.500000</td>\n",
       "      <td>1456.000000</td>\n",
       "      <td>5.950000</td>\n",
       "      <td>6.900000</td>\n",
       "      <td>79.000000</td>\n",
       "      <td>1.200000</td>\n",
       "      <td>0.280000</td>\n",
       "      <td>1.180000e+02</td>\n",
       "      <td>71.740000</td>\n",
       "    </tr>\n",
       "    <tr>\n",
       "      <th>50%</th>\n",
       "      <td>995.000000</td>\n",
       "      <td>1861.000000</td>\n",
       "      <td>6.700000</td>\n",
       "      <td>7.300000</td>\n",
       "      <td>183.000000</td>\n",
       "      <td>1.896500</td>\n",
       "      <td>0.516000</td>\n",
       "      <td>4.680000e+02</td>\n",
       "      <td>79.680000</td>\n",
       "    </tr>\n",
       "    <tr>\n",
       "      <th>75%</th>\n",
       "      <td>1492.500000</td>\n",
       "      <td>2336.500000</td>\n",
       "      <td>7.200000</td>\n",
       "      <td>7.700000</td>\n",
       "      <td>568.500000</td>\n",
       "      <td>3.600000</td>\n",
       "      <td>1.200000</td>\n",
       "      <td>1.696500e+03</td>\n",
       "      <td>87.660000</td>\n",
       "    </tr>\n",
       "    <tr>\n",
       "      <th>max</th>\n",
       "      <td>1990.000000</td>\n",
       "      <td>3473.000000</td>\n",
       "      <td>11.400000</td>\n",
       "      <td>67115.000000</td>\n",
       "      <td>65700.000000</td>\n",
       "      <td>534.500000</td>\n",
       "      <td>108.700000</td>\n",
       "      <td>5.110909e+08</td>\n",
       "      <td>99.800000</td>\n",
       "    </tr>\n",
       "  </tbody>\n",
       "</table>\n",
       "</div>"
      ],
      "text/plain": [
       "        Unnamed: 0      station           do            ph            co  \\\n",
       "count  1991.000000  1991.000000  1991.000000   1991.000000   1991.000000   \n",
       "mean    995.000000  1947.967855     6.397422    111.669617   1766.332461   \n",
       "std     574.896512   722.103262     1.323062   1875.161891   5520.179564   \n",
       "min       0.000000     2.000000     0.000000      0.000000      0.400000   \n",
       "25%     497.500000  1456.000000     5.950000      6.900000     79.000000   \n",
       "50%     995.000000  1861.000000     6.700000      7.300000    183.000000   \n",
       "75%    1492.500000  2336.500000     7.200000      7.700000    568.500000   \n",
       "max    1990.000000  3473.000000    11.400000  67115.000000  65700.000000   \n",
       "\n",
       "               bod           na            tc          wqi  \n",
       "count  1991.000000  1991.000000  1.991000e+03  1991.000000  \n",
       "mean      6.831122     1.497969  4.983356e+05    77.034114  \n",
       "std      29.089898     3.868221  1.375473e+07    12.852719  \n",
       "min       0.100000     0.000000  0.000000e+00    19.300000  \n",
       "25%       1.200000     0.280000  1.180000e+02    71.740000  \n",
       "50%       1.896500     0.516000  4.680000e+02    79.680000  \n",
       "75%       3.600000     1.200000  1.696500e+03    87.660000  \n",
       "max     534.500000   108.700000  5.110909e+08    99.800000  "
      ]
     },
     "execution_count": 4,
     "metadata": {},
     "output_type": "execute_result"
    }
   ],
   "source": [
    "dataset.describe()"
   ]
  },
  {
   "cell_type": "code",
   "execution_count": 5,
   "metadata": {},
   "outputs": [
    {
     "data": {
      "text/html": [
       "<div>\n",
       "<style scoped>\n",
       "    .dataframe tbody tr th:only-of-type {\n",
       "        vertical-align: middle;\n",
       "    }\n",
       "\n",
       "    .dataframe tbody tr th {\n",
       "        vertical-align: top;\n",
       "    }\n",
       "\n",
       "    .dataframe thead th {\n",
       "        text-align: right;\n",
       "    }\n",
       "</style>\n",
       "<table border=\"1\" class=\"dataframe\">\n",
       "  <thead>\n",
       "    <tr style=\"text-align: right;\">\n",
       "      <th></th>\n",
       "      <th>station</th>\n",
       "      <th>do</th>\n",
       "      <th>ph</th>\n",
       "      <th>co</th>\n",
       "      <th>bod</th>\n",
       "      <th>na</th>\n",
       "      <th>tc</th>\n",
       "      <th>wqi</th>\n",
       "    </tr>\n",
       "  </thead>\n",
       "  <tbody>\n",
       "    <tr>\n",
       "      <th>0</th>\n",
       "      <td>1393.0</td>\n",
       "      <td>6.7</td>\n",
       "      <td>7.5</td>\n",
       "      <td>203.0</td>\n",
       "      <td>1.8965</td>\n",
       "      <td>0.100</td>\n",
       "      <td>27.0</td>\n",
       "      <td>93.82</td>\n",
       "    </tr>\n",
       "    <tr>\n",
       "      <th>1</th>\n",
       "      <td>1399.0</td>\n",
       "      <td>5.7</td>\n",
       "      <td>7.2</td>\n",
       "      <td>189.0</td>\n",
       "      <td>2.0000</td>\n",
       "      <td>0.200</td>\n",
       "      <td>8391.0</td>\n",
       "      <td>76.96</td>\n",
       "    </tr>\n",
       "    <tr>\n",
       "      <th>2</th>\n",
       "      <td>1475.0</td>\n",
       "      <td>6.3</td>\n",
       "      <td>6.9</td>\n",
       "      <td>179.0</td>\n",
       "      <td>1.7000</td>\n",
       "      <td>0.100</td>\n",
       "      <td>5330.0</td>\n",
       "      <td>79.28</td>\n",
       "    </tr>\n",
       "    <tr>\n",
       "      <th>3</th>\n",
       "      <td>3181.0</td>\n",
       "      <td>5.8</td>\n",
       "      <td>6.9</td>\n",
       "      <td>64.0</td>\n",
       "      <td>3.8000</td>\n",
       "      <td>0.500</td>\n",
       "      <td>8443.0</td>\n",
       "      <td>69.34</td>\n",
       "    </tr>\n",
       "    <tr>\n",
       "      <th>4</th>\n",
       "      <td>3182.0</td>\n",
       "      <td>5.8</td>\n",
       "      <td>7.3</td>\n",
       "      <td>83.0</td>\n",
       "      <td>1.9000</td>\n",
       "      <td>0.400</td>\n",
       "      <td>5500.0</td>\n",
       "      <td>77.14</td>\n",
       "    </tr>\n",
       "    <tr>\n",
       "      <th>...</th>\n",
       "      <td>...</td>\n",
       "      <td>...</td>\n",
       "      <td>...</td>\n",
       "      <td>...</td>\n",
       "      <td>...</td>\n",
       "      <td>...</td>\n",
       "      <td>...</td>\n",
       "      <td>...</td>\n",
       "    </tr>\n",
       "    <tr>\n",
       "      <th>1986</th>\n",
       "      <td>1330.0</td>\n",
       "      <td>7.9</td>\n",
       "      <td>738.0</td>\n",
       "      <td>7.2</td>\n",
       "      <td>2.7000</td>\n",
       "      <td>0.518</td>\n",
       "      <td>202.0</td>\n",
       "      <td>72.06</td>\n",
       "    </tr>\n",
       "    <tr>\n",
       "      <th>1987</th>\n",
       "      <td>1450.0</td>\n",
       "      <td>7.5</td>\n",
       "      <td>585.0</td>\n",
       "      <td>6.3</td>\n",
       "      <td>2.6000</td>\n",
       "      <td>0.155</td>\n",
       "      <td>315.0</td>\n",
       "      <td>72.06</td>\n",
       "    </tr>\n",
       "    <tr>\n",
       "      <th>1988</th>\n",
       "      <td>1403.0</td>\n",
       "      <td>7.6</td>\n",
       "      <td>98.0</td>\n",
       "      <td>6.2</td>\n",
       "      <td>1.2000</td>\n",
       "      <td>0.516</td>\n",
       "      <td>570.0</td>\n",
       "      <td>66.44</td>\n",
       "    </tr>\n",
       "    <tr>\n",
       "      <th>1989</th>\n",
       "      <td>1404.0</td>\n",
       "      <td>7.7</td>\n",
       "      <td>91.0</td>\n",
       "      <td>6.5</td>\n",
       "      <td>1.3000</td>\n",
       "      <td>0.516</td>\n",
       "      <td>562.0</td>\n",
       "      <td>66.44</td>\n",
       "    </tr>\n",
       "    <tr>\n",
       "      <th>1990</th>\n",
       "      <td>1726.0</td>\n",
       "      <td>7.6</td>\n",
       "      <td>110.0</td>\n",
       "      <td>5.7</td>\n",
       "      <td>1.1000</td>\n",
       "      <td>0.516</td>\n",
       "      <td>546.0</td>\n",
       "      <td>66.44</td>\n",
       "    </tr>\n",
       "  </tbody>\n",
       "</table>\n",
       "<p>1991 rows × 8 columns</p>\n",
       "</div>"
      ],
      "text/plain": [
       "      station   do     ph     co     bod     na      tc    wqi\n",
       "0      1393.0  6.7    7.5  203.0  1.8965  0.100    27.0  93.82\n",
       "1      1399.0  5.7    7.2  189.0  2.0000  0.200  8391.0  76.96\n",
       "2      1475.0  6.3    6.9  179.0  1.7000  0.100  5330.0  79.28\n",
       "3      3181.0  5.8    6.9   64.0  3.8000  0.500  8443.0  69.34\n",
       "4      3182.0  5.8    7.3   83.0  1.9000  0.400  5500.0  77.14\n",
       "...       ...  ...    ...    ...     ...    ...     ...    ...\n",
       "1986   1330.0  7.9  738.0    7.2  2.7000  0.518   202.0  72.06\n",
       "1987   1450.0  7.5  585.0    6.3  2.6000  0.155   315.0  72.06\n",
       "1988   1403.0  7.6   98.0    6.2  1.2000  0.516   570.0  66.44\n",
       "1989   1404.0  7.7   91.0    6.5  1.3000  0.516   562.0  66.44\n",
       "1990   1726.0  7.6  110.0    5.7  1.1000  0.516   546.0  66.44\n",
       "\n",
       "[1991 rows x 8 columns]"
      ]
     },
     "execution_count": 5,
     "metadata": {},
     "output_type": "execute_result"
    }
   ],
   "source": [
    "dataset=dataset.drop('Unnamed: 0',axis=1)\n",
    "dataset"
   ]
  },
  {
   "cell_type": "code",
   "execution_count": 6,
   "metadata": {},
   "outputs": [
    {
     "data": {
      "text/plain": [
       "array([[1.3930e+03, 6.7000e+00, 7.5000e+00, ..., 1.8965e+00, 1.0000e-01,\n",
       "        2.7000e+01],\n",
       "       [1.3990e+03, 5.7000e+00, 7.2000e+00, ..., 2.0000e+00, 2.0000e-01,\n",
       "        8.3910e+03],\n",
       "       [1.4750e+03, 6.3000e+00, 6.9000e+00, ..., 1.7000e+00, 1.0000e-01,\n",
       "        5.3300e+03],\n",
       "       ...,\n",
       "       [1.4030e+03, 7.6000e+00, 9.8000e+01, ..., 1.2000e+00, 5.1600e-01,\n",
       "        5.7000e+02],\n",
       "       [1.4040e+03, 7.7000e+00, 9.1000e+01, ..., 1.3000e+00, 5.1600e-01,\n",
       "        5.6200e+02],\n",
       "       [1.7260e+03, 7.6000e+00, 1.1000e+02, ..., 1.1000e+00, 5.1600e-01,\n",
       "        5.4600e+02]])"
      ]
     },
     "execution_count": 6,
     "metadata": {},
     "output_type": "execute_result"
    }
   ],
   "source": [
    "x=dataset.iloc[:,0:7].values\n",
    "x"
   ]
  },
  {
   "cell_type": "code",
   "execution_count": 7,
   "metadata": {},
   "outputs": [
    {
     "data": {
      "text/plain": [
       "1861.0    129\n",
       "1400.0     10\n",
       "1399.0     10\n",
       "1572.0     10\n",
       "1547.0     10\n",
       "         ... \n",
       "2.0         1\n",
       "2857.0      1\n",
       "2838.0      1\n",
       "2866.0      1\n",
       "2875.0      1\n",
       "Name: station, Length: 320, dtype: int64"
      ]
     },
     "execution_count": 7,
     "metadata": {},
     "output_type": "execute_result"
    }
   ],
   "source": [
    "dataset['station'].value_counts()"
   ]
  },
  {
   "cell_type": "code",
   "execution_count": 8,
   "metadata": {},
   "outputs": [
    {
     "data": {
      "text/plain": [
       "array([93.82, 76.96, 79.28, ..., 66.44, 66.44, 66.44])"
      ]
     },
     "execution_count": 8,
     "metadata": {},
     "output_type": "execute_result"
    }
   ],
   "source": [
    "y=dataset.iloc[:,-1].values\n",
    "y"
   ]
  },
  {
   "cell_type": "code",
   "execution_count": 9,
   "metadata": {},
   "outputs": [
    {
     "data": {
      "image/png": "[encoded data removed]",
      "text/plain": [
       "<Figure size 432x288 with 1 Axes>"
      ]
     },
     "metadata": {
      "needs_background": "light"
     },
     "output_type": "display_data"
    }
   ],
   "source": [
    "plt.scatter(x[:,1],y)\n",
    "plt.show()"
   ]
  },
  {
   "cell_type": "code",
   "execution_count": 10,
   "metadata": {},
   "outputs": [
    {
     "data": {
      "image/png": "[encoded data removed]",
      "text/plain": [
       "<Figure size 432x288 with 1 Axes>"
      ]
     },
     "metadata": {
      "needs_background": "light"
     },
     "output_type": "display_data"
    }
   ],
   "source": [
    "plt.scatter(x[:,2],y)\n",
    "plt.show()"
   ]
  },
  {
   "cell_type": "code",
   "execution_count": 11,
   "metadata": {},
   "outputs": [
    {
     "data": {
      "image/png": "[encoded data removed]",
      "text/plain": [
       "<Figure size 432x288 with 1 Axes>"
      ]
     },
     "metadata": {
      "needs_background": "light"
     },
     "output_type": "display_data"
    }
   ],
   "source": [
    "plt.scatter(x[:,3],y)\n",
    "plt.show()"
   ]
  },
  {
   "cell_type": "code",
   "execution_count": 12,
   "metadata": {},
   "outputs": [
    {
     "data": {
      "image/png": "[encoded data removed]",
      "text/plain": [
       "<Figure size 432x288 with 1 Axes>"
      ]
     },
     "metadata": {
      "needs_background": "light"
     },
     "output_type": "display_data"
    }
   ],
   "source": [
    "plt.scatter(x[:,5],y)\n",
    "plt.show()"
   ]
  },
  {
   "cell_type": "code",
   "execution_count": 13,
   "metadata": {},
   "outputs": [],
   "source": [
    "from sklearn.model_selection import train_test_split\n",
    "x_train,x_test,y_train,y_test=train_test_split(x,y,test_size=0.2,random_state=0)"
   ]
  },
  {
   "cell_type": "code",
   "execution_count": 14,
   "metadata": {},
   "outputs": [
    {
     "data": {
      "text/plain": [
       "(1592, 7)"
      ]
     },
     "execution_count": 14,
     "metadata": {},
     "output_type": "execute_result"
    }
   ],
   "source": [
    "x_train.shape"
   ]
  },
  {
   "cell_type": "code",
   "execution_count": 15,
   "metadata": {},
   "outputs": [
    {
     "data": {
      "text/plain": [
       "(399, 7)"
      ]
     },
     "execution_count": 15,
     "metadata": {},
     "output_type": "execute_result"
    }
   ],
   "source": [
    "x_test.shape"
   ]
  },
  {
   "cell_type": "code",
   "execution_count": 16,
   "metadata": {},
   "outputs": [
    {
     "data": {
      "text/plain": [
       "(1592,)"
      ]
     },
     "execution_count": 16,
     "metadata": {},
     "output_type": "execute_result"
    }
   ],
   "source": [
    "y_train.shape"
   ]
  },
  {
   "cell_type": "code",
   "execution_count": 17,
   "metadata": {},
   "outputs": [
    {
     "data": {
      "text/plain": [
       "(399,)"
      ]
     },
     "execution_count": 17,
     "metadata": {},
     "output_type": "execute_result"
    }
   ],
   "source": [
    "y_test.shape"
   ]
  },
  {
   "cell_type": "code",
   "execution_count": 18,
   "metadata": {},
   "outputs": [],
   "source": [
    "from sklearn.ensemble import RandomForestRegressor\n",
    "rf=RandomForestRegressor(criterion='mse',n_estimators=20,random_state=0)"
   ]
  },
  {
   "cell_type": "code",
   "execution_count": 19,
   "metadata": {},
   "outputs": [
    {
     "data": {
      "text/plain": [
       "RandomForestRegressor(n_estimators=20, random_state=0)"
      ]
     },
     "execution_count": 19,
     "metadata": {},
     "output_type": "execute_result"
    }
   ],
   "source": [
    "rf.fit(x_train,y_train)"
   ]
  },
  {
   "cell_type": "code",
   "execution_count": 36,
   "metadata": {},
   "outputs": [
    {
     "data": {
      "text/plain": [
       "['model.joblib']"
      ]
     },
     "execution_count": 36,
     "metadata": {},
     "output_type": "execute_result"
    }
   ],
   "source": [
    "from joblib import dump\n",
    "dump(rf,'model.joblib')"
   ]
  },
  {
   "cell_type": "code",
   "execution_count": 21,
   "metadata": {},
   "outputs": [
    {
     "data": {
      "text/plain": [
       "array([82.94 , 87.66 , 55.655, 73.04 , 76.168, 49.69 , 66.44 , 88.371,\n",
       "       82.04 , 76.088, 79.64 , 55.286, 87.66 , 73.031, 77.405, 72.313,\n",
       "       77.997, 60.633, 88.38 , 70.8  , 87.66 , 83.214, 82.04 , 65.922,\n",
       "       82.115, 94.18 , 82.04 , 66.955, 82.94 , 87.66 , 83.52 , 88.38 ,\n",
       "       82.76 , 88.337, 50.2  , 88.38 , 83.7  , 39.76 , 87.66 , 88.38 ,\n",
       "       82.04 , 93.588, 82.418, 79.262, 94.18 , 55.49 , 82.343, 71.753,\n",
       "       75.42 , 71.707, 82.94 , 72.923, 82.04 , 83.517, 33.178, 84.241,\n",
       "       84.396, 94.18 , 78.867, 60.66 , 77.535, 68.757, 62.696, 94.18 ,\n",
       "       81.271, 83.7  , 85.116, 66.44 , 83.52 , 70.198, 88.38 , 79.433,\n",
       "       78.74 , 76.798, 83.421, 82.209, 60.66 , 81.933, 71.268, 70.297,\n",
       "       77.301, 77.302, 77.913, 82.94 , 65.655, 88.2  , 99.26 , 88.371,\n",
       "       88.56 , 82.94 , 93.984, 98.826, 76.465, 70.697, 87.66 , 71.421,\n",
       "       87.66 , 76.42 , 30.767, 79.64 , 76.144, 88.2  , 82.94 , 71.472,\n",
       "       50.78 , 81.77 , 78.825, 82.94 , 88.38 , 77.904, 50.2  , 82.98 ,\n",
       "       97.584, 87.66 , 82.94 , 82.76 , 93.298, 82.769, 72.676, 75.737,\n",
       "       71.862, 60.869, 82.94 , 74.362, 65.556, 71.628, 87.717, 78.3  ,\n",
       "       72.828, 93.694, 82.94 , 74.938, 83.7  , 72.923, 82.16 , 78.08 ,\n",
       "       83.7  , 83.511, 93.28 , 94.18 , 79.46 , 76.34 , 49.617, 88.38 ,\n",
       "       78.318, 69.911, 87.66 , 66.782, 77.409, 82.94 , 82.589, 82.58 ,\n",
       "       89.068, 83.7  , 71.918, 45.047, 62.014, 82.94 , 79.64 , 88.38 ,\n",
       "       65.249, 76.881, 72.06 , 72.033, 93.64 , 89.527, 42.529, 71.707,\n",
       "       83.403, 87.66 , 82.04 , 64.1  , 94.18 , 64.553, 77.293, 75.515,\n",
       "       88.2  , 72.86 , 54.956, 64.808, 71.606, 60.432, 93.64 , 68.57 ,\n",
       "       75.845, 55.49 , 82.58 , 54.879, 77.808, 83.978, 83.7  , 70.221,\n",
       "       94.18 , 64.662, 50.614, 88.38 , 66.44 , 81.375, 82.98 , 88.2  ,\n",
       "       55.655, 69.688, 76.025, 84.014, 82.76 , 82.04 , 88.2  , 88.2  ,\n",
       "       70.421, 83.969, 71.594, 94.18 , 94.   , 88.56 , 64.381, 83.682,\n",
       "       82.98 , 82.94 , 67.283, 79.325, 74.153, 91.875, 54.256, 76.043,\n",
       "       69.654, 65.576, 69.915, 79.64 , 71.405, 77.324, 93.82 , 87.66 ,\n",
       "       93.298, 64.222, 88.56 , 79.64 , 70.843, 79.433, 74.71 , 65.464,\n",
       "       79.433, 87.66 , 77.221, 62.865, 50.2  , 88.38 , 83.7  , 50.2  ,\n",
       "       55.655, 76.172, 77.059, 88.02 , 84.887, 89.32 , 93.28 , 78.66 ,\n",
       "       72.06 , 33.394, 71.322, 80.828, 67.938, 50.126, 73.137, 72.905,\n",
       "       88.282, 78.758, 83.403, 88.2  , 88.38 , 88.02 , 82.897, 71.319,\n",
       "       53.62 , 44.953, 74.855, 94.18 , 82.58 , 75.85 , 52.348, 88.551,\n",
       "       78.767, 82.58 , 66.532, 51.544, 94.18 , 81.159, 56.452, 89.176,\n",
       "       88.38 , 64.531, 45.382, 62.502, 77.526, 69.376, 55.82 , 43.456,\n",
       "       81.824, 76.564, 87.66 , 82.76 , 87.66 , 88.56 , 42.425, 88.539,\n",
       "       68.883, 82.76 , 33.412, 83.52 , 55.835, 88.398, 76.859, 81.527,\n",
       "       84.36 , 93.28 , 72.087, 54.643, 82.98 , 97.931, 83.52 , 79.64 ,\n",
       "       76.712, 78.186, 84.396, 74.738, 82.94 , 50.403, 77.899, 32.912,\n",
       "       82.04 , 82.94 , 76.331, 88.38 , 75.901, 88.38 , 82.04 , 71.835,\n",
       "       71.286, 86.426, 45.956, 88.38 , 77.774, 94.18 , 70.895, 70.668,\n",
       "       65.903, 72.289, 87.66 , 88.8  , 88.209, 94.   , 87.963, 82.76 ,\n",
       "       72.516, 72.86 , 66.595, 76.631, 72.06 , 93.82 , 88.56 , 90.185,\n",
       "       77.45 , 81.215, 83.094, 82.04 , 82.04 , 67.031, 45.457, 82.769,\n",
       "       88.02 , 88.371, 93.93 , 81.168, 81.478, 93.307, 67.198, 94.18 ,\n",
       "       72.804, 88.2  , 82.76 , 89.302, 43.667, 88.02 , 76.17 , 76.115,\n",
       "       93.595, 94.18 , 77.423, 83.7  , 93.964, 79.64 , 66.915, 71.727,\n",
       "       66.869, 82.94 , 66.606, 88.02 , 88.371, 82.94 , 87.66 ])"
      ]
     },
     "execution_count": 21,
     "metadata": {},
     "output_type": "execute_result"
    }
   ],
   "source": [
    "y_predict=rf.predict(x_test)\n",
    "y_predict"
   ]
  },
  {
   "cell_type": "code",
   "execution_count": 22,
   "metadata": {},
   "outputs": [
    {
     "data": {
      "text/plain": [
       "array([82.94, 87.66, 55.82, 73.04, 76.96, 47.4 , 66.44, 88.38, 82.04,\n",
       "       76.16, 79.64, 67.06, 87.66, 73.04, 77.36, 72.68, 78.3 , 67.06,\n",
       "       88.38, 70.8 , 87.66, 83.34, 82.04, 66.12, 82.94, 94.18, 82.04,\n",
       "       66.48, 82.94, 87.66, 83.52, 88.38, 82.76, 88.2 , 50.2 , 88.38,\n",
       "       83.7 , 33.34, 87.66, 88.38, 82.04, 93.28, 82.58, 79.28, 94.18,\n",
       "       55.82, 82.94, 72.68, 77.5 , 72.06, 82.94, 72.86, 82.04, 83.7 ,\n",
       "       33.34, 84.72, 84.36, 94.18, 79.02, 61.44, 78.84, 71.16, 64.74,\n",
       "       94.18, 78.66, 83.7 , 85.08, 66.44, 83.52, 72.68, 88.38, 79.46,\n",
       "       78.74, 77.36, 83.34, 81.96, 61.44, 83.34, 71.16, 74.02, 78.84,\n",
       "       77.32, 77.76, 82.94, 67.06, 88.2 , 99.62, 88.38, 88.56, 82.94,\n",
       "       94.22, 99.62, 76.42, 72.64, 87.66, 72.68, 87.66, 76.42, 34.72,\n",
       "       79.64, 76.42, 88.2 , 82.94, 72.68, 50.2 , 82.04, 78.66, 82.94,\n",
       "       88.38, 78.3 , 50.2 , 82.98, 99.44, 87.66, 82.94, 82.76, 93.28,\n",
       "       82.76, 77.36, 75.44, 71.88, 60.64, 82.94, 73.84, 65.18, 71.52,\n",
       "       88.56, 78.3 , 70.54, 93.82, 82.94, 75.  , 83.7 , 72.86, 82.76,\n",
       "       78.08, 83.7 , 83.52, 93.28, 94.18, 79.46, 76.34, 51.36, 88.38,\n",
       "       77.74, 67.5 , 87.66, 66.52, 78.3 , 82.94, 82.58, 82.58, 89.32,\n",
       "       83.7 , 67.42, 44.94, 61.26, 82.94, 79.64, 88.38, 61.8 , 77.36,\n",
       "       72.06, 72.06, 93.64, 89.32, 38.34, 72.06, 83.34, 87.66, 82.04,\n",
       "       61.76, 94.18, 67.6 , 77.32, 66.44, 88.2 , 72.86, 54.84, 62.7 ,\n",
       "       70.36, 53.02, 93.64, 65.18, 76.34, 55.82, 82.58, 55.82, 73.04,\n",
       "       82.04, 83.7 , 70.8 , 94.18, 60.5 , 55.82, 88.38, 66.44, 81.96,\n",
       "       82.98, 88.2 , 55.82, 70.8 , 75.98, 82.04, 82.76, 82.04, 88.2 ,\n",
       "       88.2 , 67.5 , 78.74, 67.38, 94.18, 94.  , 88.56, 61.76, 83.7 ,\n",
       "       82.98, 82.94, 66.44, 79.28, 73.84, 93.28, 47.4 , 76.42, 71.34,\n",
       "       66.12, 67.06, 79.64, 72.06, 77.36, 93.82, 87.66, 93.28, 55.2 ,\n",
       "       88.56, 79.64, 72.06, 79.46, 72.86, 67.06, 79.46, 87.66, 78.3 ,\n",
       "       67.06, 50.2 , 88.38, 83.7 , 50.2 , 55.82, 76.42, 76.96, 88.02,\n",
       "       84.9 , 89.32, 93.28, 78.66, 72.06, 32.78, 71.34, 82.94, 73.12,\n",
       "       50.74, 71.7 , 73.04, 89.98, 78.74, 83.34, 88.2 , 88.38, 88.02,\n",
       "       82.76, 72.68, 45.84, 44.58, 76.16, 94.18, 82.58, 75.  , 50.2 ,\n",
       "       88.56, 78.74, 82.58, 66.08, 40.3 , 94.18, 81.6 , 49.72, 89.14,\n",
       "       88.38, 67.06, 43.02, 61.8 , 78.08, 70.8 , 55.82, 50.2 , 82.04,\n",
       "       76.42, 87.66, 82.76, 87.66, 88.56, 37.44, 87.66, 67.5 , 82.76,\n",
       "       33.34, 83.52, 61.44, 88.38, 77.14, 82.04, 84.36, 93.28, 72.1 ,\n",
       "       54.88, 82.98, 98.9 , 83.52, 79.64, 77.14, 77.9 , 84.36, 71.74,\n",
       "       82.94, 50.2 , 78.3 , 33.34, 82.04, 82.94, 76.34, 88.38, 76.16,\n",
       "       88.38, 82.04, 71.88, 71.16, 87.66, 44.58, 88.38, 77.72, 94.18,\n",
       "       72.06, 68.22, 61.88, 73.04, 87.66, 88.6 , 88.2 , 94.  , 88.02,\n",
       "       82.76, 73.04, 72.86, 66.26, 76.96, 72.06, 93.82, 88.56, 90.52,\n",
       "       77.36, 78.3 , 83.52, 82.04, 82.04, 66.44, 44.58, 82.76, 88.02,\n",
       "       88.38, 93.64, 81.06, 82.04, 93.28, 67.06, 94.18, 73.12, 88.2 ,\n",
       "       82.76, 89.14, 43.6 , 88.02, 71.74, 76.16, 93.82, 94.18, 77.36,\n",
       "       83.7 , 94.22, 79.64, 67.06, 71.7 , 64.92, 82.94, 66.12, 88.02,\n",
       "       88.38, 82.94, 87.66])"
      ]
     },
     "execution_count": 22,
     "metadata": {},
     "output_type": "execute_result"
    }
   ],
   "source": [
    "y_test"
   ]
  },
  {
   "cell_type": "code",
   "execution_count": 23,
   "metadata": {},
   "outputs": [
    {
     "data": {
      "text/plain": [
       "array([93.82])"
      ]
     },
     "execution_count": 23,
     "metadata": {},
     "output_type": "execute_result"
    }
   ],
   "source": [
    "rf.predict([[1393.0,6.7,7.50,203.0,1.8965,0.100,27.0]])"
   ]
  },
  {
   "cell_type": "code",
   "execution_count": 24,
   "metadata": {},
   "outputs": [
    {
     "data": {
      "text/plain": [
       "0.980556717187003"
      ]
     },
     "execution_count": 24,
     "metadata": {},
     "output_type": "execute_result"
    }
   ],
   "source": [
    "from sklearn.metrics import r2_score\n",
    "r2_score(y_test,y_predict)"
   ]
  },
  {
   "cell_type": "code",
   "execution_count": 25,
   "metadata": {},
   "outputs": [
    {
     "data": {
      "text/plain": [
       "DecisionTreeRegressor(random_state=0)"
      ]
     },
     "execution_count": 25,
     "metadata": {},
     "output_type": "execute_result"
    }
   ],
   "source": [
    "from sklearn.tree import DecisionTreeRegressor\n",
    "dataa=DecisionTreeRegressor(criterion='mse',random_state=0)\n",
    "dataa.fit(x_train,y_train)"
   ]
  },
  {
   "cell_type": "code",
   "execution_count": 26,
   "metadata": {},
   "outputs": [
    {
     "data": {
      "text/plain": [
       "array([82.94, 87.66, 55.82, 73.04, 77.14, 47.4 , 66.44, 88.38, 82.04,\n",
       "       76.16, 79.64, 55.82, 87.66, 73.04, 77.36, 72.68, 78.3 , 61.44,\n",
       "       88.38, 70.8 , 87.66, 83.34, 82.04, 66.12, 82.94, 94.18, 82.04,\n",
       "       66.66, 82.94, 87.66, 83.52, 88.38, 82.76, 88.02, 50.2 , 88.38,\n",
       "       83.7 , 44.58, 87.66, 88.38, 82.04, 93.28, 82.4 , 79.28, 94.18,\n",
       "       55.82, 82.76, 72.12, 77.68, 72.06, 82.94, 72.86, 82.04, 83.7 ,\n",
       "       33.34, 84.36, 84.36, 94.18, 79.02, 61.44, 78.84, 71.16, 53.94,\n",
       "       94.18, 83.92, 83.7 , 85.08, 66.44, 83.52, 67.06, 88.38, 79.46,\n",
       "       78.74, 77.9 , 83.34, 81.6 , 61.44, 79.68, 71.16, 71.7 , 78.84,\n",
       "       77.32, 77.76, 82.94, 67.06, 88.2 , 99.44, 88.38, 88.56, 82.94,\n",
       "       94.22, 99.62, 76.42, 71.74, 87.66, 72.68, 87.66, 76.42, 38.02,\n",
       "       79.64, 76.42, 88.2 , 82.94, 72.12, 50.2 , 82.04, 78.66, 82.94,\n",
       "       88.38, 78.3 , 50.2 , 82.98, 99.62, 87.66, 82.94, 82.76, 93.28,\n",
       "       82.76, 71.74, 75.8 , 71.88, 59.92, 82.94, 69.34, 65.18, 71.7 ,\n",
       "       88.56, 78.3 , 70.54, 93.64, 82.94, 75.  , 83.7 , 72.86, 82.58,\n",
       "       78.08, 83.7 , 83.52, 93.28, 94.18, 79.46, 76.34, 51.36, 88.38,\n",
       "       78.3 , 56.76, 87.66, 62.56, 78.3 , 82.94, 82.58, 82.58, 89.32,\n",
       "       83.7 , 72.1 , 45.12, 61.62, 82.94, 79.64, 88.38, 61.62, 77.36,\n",
       "       72.06, 72.06, 93.64, 89.32, 38.16, 72.06, 83.34, 87.66, 82.04,\n",
       "       61.76, 94.18, 72.68, 77.32, 66.44, 88.2 , 72.86, 51.54, 62.7 ,\n",
       "       70.54, 58.64, 93.64, 70.8 , 76.34, 55.82, 82.58, 55.82, 78.66,\n",
       "       82.04, 83.7 , 71.34, 94.18, 65.18, 72.68, 88.38, 66.44, 81.78,\n",
       "       82.98, 88.2 , 55.82, 70.8 , 75.98, 82.76, 82.76, 82.04, 88.2 ,\n",
       "       88.2 , 61.44, 84.36, 72.06, 94.18, 94.  , 88.56, 61.76, 83.7 ,\n",
       "       82.98, 82.94, 66.44, 79.46, 73.12, 93.28, 71.74, 76.42, 71.34,\n",
       "       66.12, 71.74, 79.64, 72.06, 74.06, 93.82, 87.66, 93.28, 71.52,\n",
       "       88.56, 79.64, 72.06, 79.46, 72.14, 67.42, 79.46, 87.66, 78.3 ,\n",
       "       60.88, 50.2 , 88.38, 83.7 , 50.2 , 55.82, 76.42, 77.14, 88.02,\n",
       "       82.58, 89.32, 93.28, 78.66, 72.06, 33.34, 71.34, 82.94, 56.76,\n",
       "       50.2 , 71.16, 73.04, 89.98, 78.74, 83.34, 88.2 , 88.38, 88.02,\n",
       "       82.76, 72.68, 45.84, 44.58, 76.34, 94.18, 82.58, 75.  , 50.2 ,\n",
       "       88.56, 78.74, 82.58, 66.26, 51.54, 94.18, 81.78, 37.42, 89.14,\n",
       "       88.38, 67.06, 47.34, 61.8 , 74.06, 70.8 , 55.82, 33.34, 82.04,\n",
       "       76.42, 87.66, 82.76, 87.66, 88.56, 37.44, 87.66, 61.44, 82.76,\n",
       "       33.34, 83.52, 60.88, 88.38, 77.14, 82.04, 84.36, 93.28, 73.  ,\n",
       "       66.48, 82.98, 99.62, 83.52, 79.64, 77.14, 78.08, 84.36, 71.74,\n",
       "       82.94, 50.2 , 78.3 , 33.34, 82.04, 82.94, 76.34, 88.38, 76.16,\n",
       "       88.38, 82.04, 71.88, 71.16, 87.66, 43.06, 88.38, 77.72, 94.18,\n",
       "       72.06, 70.54, 67.5 , 73.04, 87.66, 88.6 , 88.2 , 94.  , 88.02,\n",
       "       82.76, 73.04, 72.86, 66.44, 76.96, 72.06, 93.82, 88.56, 90.88,\n",
       "       77.36, 83.92, 83.52, 82.04, 82.04, 66.44, 44.58, 82.76, 88.02,\n",
       "       88.38, 93.64, 81.06, 82.04, 93.28, 67.06, 94.18, 73.12, 88.2 ,\n",
       "       82.76, 89.14, 43.6 , 88.02, 76.42, 76.16, 93.82, 94.18, 77.36,\n",
       "       83.7 , 94.22, 79.64, 71.74, 71.7 , 71.7 , 82.94, 66.12, 88.02,\n",
       "       88.38, 82.94, 87.66])"
      ]
     },
     "execution_count": 26,
     "metadata": {},
     "output_type": "execute_result"
    }
   ],
   "source": [
    "y_pred1=dataa.predict(x_test)\n",
    "y_pred1"
   ]
  },
  {
   "cell_type": "code",
   "execution_count": 27,
   "metadata": {},
   "outputs": [
    {
     "data": {
      "text/plain": [
       "array([93.82])"
      ]
     },
     "execution_count": 27,
     "metadata": {},
     "output_type": "execute_result"
    }
   ],
   "source": [
    "dataa.predict([[1393.0,6.7,7.50,203.0,1.8965,0.100,27.0]])"
   ]
  },
  {
   "cell_type": "code",
   "execution_count": 28,
   "metadata": {},
   "outputs": [
    {
     "data": {
      "text/plain": [
       "0.951459703546228"
      ]
     },
     "execution_count": 28,
     "metadata": {},
     "output_type": "execute_result"
    }
   ],
   "source": [
    "r2_score(y_test,y_pred1)"
   ]
  },
  {
   "cell_type": "code",
   "execution_count": null,
   "metadata": {},
   "outputs": [],
   "source": []
  },
  {
   "cell_type": "code",
   "execution_count": 30,
   "metadata": {},
   "outputs": [],
   "source": [
    "from sklearn.linear_model import LinearRegression\n",
    "mr=LinearRegression()"
   ]
  },
  {
   "cell_type": "code",
   "execution_count": 31,
   "metadata": {},
   "outputs": [
    {
     "data": {
      "text/plain": [
       "LinearRegression()"
      ]
     },
     "execution_count": 31,
     "metadata": {},
     "output_type": "execute_result"
    }
   ],
   "source": [
    "mr.fit(x_train,y_train)"
   ]
  },
  {
   "cell_type": "code",
   "execution_count": 32,
   "metadata": {},
   "outputs": [
    {
     "data": {
      "text/plain": [
       "array([82.8089468 , 79.58873663, 67.48359031, 78.35211281, 73.08713545,\n",
       "       45.48812088, 78.92292257, 87.86892583, 80.5828715 , 82.09851957,\n",
       "       79.74816363, 67.03483345, 79.33599276, 80.82238749, 73.34244822,\n",
       "       67.53789334, 71.38237355, 66.64177312, 86.21592461, 85.67036547,\n",
       "       78.56668311, 86.5024818 , 78.5337291 , 80.96310072, 79.79221839,\n",
       "       90.73874866, 79.63681932, 83.66116868, 83.40475921, 75.87493971,\n",
       "       83.89343556, 87.74565134, 81.7171474 , 68.75112643, 61.3457964 ,\n",
       "       77.83634632, 77.27100116, 39.15881168, 89.23041314, 89.09584551,\n",
       "       81.68099582, 81.01876292, 84.47307077, 82.22833932, 88.6889752 ,\n",
       "       66.10627222, 72.84430328, 77.4477917 , 76.52219948, 75.87243942,\n",
       "       78.32373319, 82.89108577, 76.08006592, 78.20350464, 51.55779667,\n",
       "       73.54939311, 82.78581074, 86.57110748, 80.50784667, 74.44307993,\n",
       "       75.79544191, 82.7451611 , 64.61980803, 86.78706033, 76.11879024,\n",
       "       78.67996941, 80.61428557, 76.35482499, 80.47187543, 73.15782577,\n",
       "       85.33349902, 77.65938178, 78.76730398, 72.36834506, 83.89681689,\n",
       "       82.2372052 , 71.97738598, 82.83623007, 85.62308653, 70.43604379,\n",
       "       79.98938217, 74.13953941, 78.24046862, 79.36940545, 67.75771435,\n",
       "       79.08165321, 79.70325595, 90.05193275, 82.18942991, 80.48340151,\n",
       "       83.07107524, 82.9230327 , 73.63100368, 71.97916773, 81.01793931,\n",
       "       82.12374074, 91.03067726, 77.96578101, 45.99951702, 76.51327219,\n",
       "       75.30624058, 91.03347856, 80.34445602, 75.34059496, 65.13455394,\n",
       "       73.40473771, 80.52231651, 74.04982457, 79.08814741, 75.22122259,\n",
       "       62.07681623, 81.33340565, 79.83872298, 82.70454435, 83.46357643,\n",
       "       86.78352848, 80.38275255, 80.3518282 , 71.72298754, 74.34221749,\n",
       "       83.55351725, 74.81139881, 81.446721  , 71.34148982, 67.09760861,\n",
       "       80.98650676, 80.9566646 , 87.64887315, 73.09478461, 95.70586197,\n",
       "       81.00177855, 72.2075388 , 80.23485156, 77.7881489 , 77.86160139,\n",
       "       76.99488311, 82.31971378, 96.8607052 , 86.95122325, 92.09535912,\n",
       "       81.13198106, 84.7280249 , 51.44349369, 76.5557706 , 73.08281384,\n",
       "       63.71123437, 78.52946283, 66.58546329, 81.60696757, 77.80491068,\n",
       "       81.46782774, 83.87182357, 79.02952831, 81.01635146, 76.37903925,\n",
       "       57.26199935, 66.48693046, 75.9042376 , 82.93344389, 86.32584506,\n",
       "       67.90132175, 79.74493194, 81.28065205, 78.32398104, 79.22871968,\n",
       "       80.84251715, 47.86078126, 75.94826808, 80.72279327, 81.81183216,\n",
       "       80.1758413 , 83.9228661 , 85.20309902, 66.47380969, 75.30892382,\n",
       "       77.94054803, 82.63398985, 75.9190838 , 66.08392666, 83.89501955,\n",
       "       70.62953937, 66.87534734, 83.62034361, 71.81125369, 76.45353065,\n",
       "       66.75405744, 79.23953057, 67.32610534, 83.23197185, 67.51170764,\n",
       "       77.22511064, 66.34006084, 84.00045556, 71.13984033, 49.76249503,\n",
       "       77.86904564, 77.5899302 , 78.71405207, 80.59104422, 75.97380558,\n",
       "       71.259707  , 74.9078578 , 81.05609759, 77.53035526, 87.13975412,\n",
       "       77.21824376, 79.80506661, 82.63824111, 63.53844066, 81.04364827,\n",
       "       83.29132822, 87.03696814, 91.31028348, 85.54691823, 35.40608794,\n",
       "       79.40327349, 81.96227311, 78.60886473, 79.02693119, 78.46762703,\n",
       "       67.27644319, 73.72439727, 30.98538646, 71.68403883, 87.64228829,\n",
       "       77.36970041, 73.97562147, 80.44340827, 79.41719715, 73.9947652 ,\n",
       "       81.00494263, 81.32694825, 91.34120576, 80.82692363, 79.6400527 ,\n",
       "       80.8112469 , 79.58053953, 78.49716324, 71.57854819, 67.00944033,\n",
       "       75.16890182, 83.34276998, 76.47959855, 68.51247232, 63.03588941,\n",
       "       79.84533199, 78.73258036, 62.76825297, 67.90165462, 71.23285141,\n",
       "       74.12854348, 84.14250336, 71.77130205, 81.90425937, 80.29137632,\n",
       "       82.10587057, 84.21115094, 38.53052874, 85.34769052, 78.49139638,\n",
       "       64.04006705, 66.0685618 , 75.49074844, 86.11895067, 76.49424562,\n",
       "       79.45486479, 81.98866662, 91.11171167, 84.11316773, 81.45058503,\n",
       "       75.06894859, 69.44119817, 66.69506106, 54.056463  , 74.03646742,\n",
       "       86.26504199, 86.32657   , 82.50843298, 69.90202826, 88.43672722,\n",
       "       77.3372883 , 85.62265174, 80.46173318, 65.18839891, 87.71109246,\n",
       "       79.7078625 , 39.98207679, 80.69773933, 86.25840566, 57.39704979,\n",
       "       41.74833145, 68.06642837, 69.09929968, 74.74884557, 68.25604978,\n",
       "       62.65787308, 76.01848274, 76.96361636, 79.47396943, 77.18638182,\n",
       "       82.63662398, 81.65887449, 49.83076977, 75.46254191, 70.17834065,\n",
       "       83.2237465 , 45.97544894, 76.8884757 , 58.67957979, 85.68942667,\n",
       "       72.19691617, 74.57913932, 79.50874636, 89.25172908, 83.24851587,\n",
       "       57.30542617, 79.67600646, 86.00166563, 82.30500267, 82.13643446,\n",
       "       70.372262  , 71.6424003 , 82.84078477, 67.7660449 , 81.52929762,\n",
       "       67.086944  , 68.52526668, 45.07296144, 84.14569001, 81.95608161,\n",
       "       74.48780934, 79.59642024, 81.51272874, 81.66159479, 84.75459027,\n",
       "       73.47053516, 86.90899375, 71.07249932, 47.77946729, 82.57418435,\n",
       "       78.88897476, 90.92631905, 76.08800814, 68.49863029, 71.52603881,\n",
       "       84.11884309, 83.42625404, 82.56501614, 75.15389291, 79.19277563,\n",
       "       73.67508412, 87.93062887, 78.94384105, 78.43792609, 76.71821901,\n",
       "       71.58202603, 80.97842335, 90.73074676, 83.61464261, 82.53791308,\n",
       "       79.38653865, 75.01965577, 80.23114544, 76.83117182, 70.24277312,\n",
       "       75.29724452, 40.95489724, 82.31670951, 81.51956854, 84.77064023,\n",
       "       80.4478768 , 80.88188252, 82.41439947, 87.05392492, 69.83451071,\n",
       "       87.82400681, 74.4880968 , 85.56719338, 81.20657577, 78.63087095,\n",
       "       63.72174758, 80.36737203, 75.93797557, 80.84363893, 93.16000563,\n",
       "       85.76913018, 80.0991868 , 84.89345729, 82.91555433, 80.21208517,\n",
       "       70.40964745, 76.1327391 , 69.12875179, 77.25789405, 81.50025117,\n",
       "       84.08858374, 77.17118827, 82.99426869, 76.77309073])"
      ]
     },
     "execution_count": 32,
     "metadata": {},
     "output_type": "execute_result"
    }
   ],
   "source": [
    "y_pred=mr.predict(x_test)\n",
    "y_pred"
   ]
  },
  {
   "cell_type": "code",
   "execution_count": 34,
   "metadata": {},
   "outputs": [
    {
     "data": {
      "text/plain": [
       "array([77.88438943])"
      ]
     },
     "execution_count": 34,
     "metadata": {},
     "output_type": "execute_result"
    }
   ],
   "source": [
    "mr.predict([[1393.0,6.7,7.50,203.0,1.8965,0.100,27.0]])"
   ]
  },
  {
   "cell_type": "code",
   "execution_count": 35,
   "metadata": {},
   "outputs": [
    {
     "data": {
      "text/plain": [
       "0.6120501654079106"
      ]
     },
     "execution_count": 35,
     "metadata": {},
     "output_type": "execute_result"
    }
   ],
   "source": [
    "r2_score(y_test,y_pred)"
   ]
  },
  {
   "cell_type": "code",
   "execution_count": null,
   "metadata": {},
   "outputs": [],
   "source": []
  }
 ],
 "metadata": {
  "kernelspec": {
   "display_name": "Python 3 (ipykernel)",
   "language": "python",
   "name": "python3"
  },
  "language_info": {
   "codemirror_mode": {
    "name": "ipython",
    "version": 3
   },
   "file_extension": ".py",
   "mimetype": "text/x-python",
   "name": "python",
   "nbconvert_exporter": "python",
   "pygments_lexer": "ipython3",
   "version": "3.7.0"
  }
 },
 "nbformat": 4,
 "nbformat_minor": 4
}
